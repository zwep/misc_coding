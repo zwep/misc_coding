{
 "cells": [
  {
   "cell_type": "heading",
   "metadata": {
    "collapsed": true
   },
   "level": 1,
   "source": [
    "Here we show how to use the RSS class that allows you to get information from several news websites"
   ]
  },
  {
   "cell_type": "code",
   "execution_count": null,
   "metadata": {},
   "outputs": [],
   "source": [
    "# If you run into trouble using IntelliJ and Jupyter Notebook.. please start a notebook (server) by using the \n",
    "# following command:\n",
    "# jupyter notebook --no-browser --NotebookApp.token='' --NotebookApp.disable_check_xsrf=True\n",
    "\n",
    "from helper.loadrss import RssUrl\n",
    "\n",
    "rss_obj = RssUrl()\n",
    "news_list = ['nos', 'nu', 'rtl']\n",
    "rss_obj.get_url_content(news_list[0])\n"
   ]
  }
 ],
 "metadata": {
  "kernelspec": {
   "display_name": "Python 2",
   "language": "python",
   "name": "python2"
  },
  "language_info": {
   "codemirror_mode": {
    "name": "ipython",
    "version": 2
   },
   "file_extension": ".py",
   "mimetype": "text/x-python",
   "name": "python",
   "nbconvert_exporter": "python",
   "pygments_lexer": "ipython2",
   "version": "2.7.6"
  }
 },
 "nbformat": 4,
 "nbformat_minor": 0
}
