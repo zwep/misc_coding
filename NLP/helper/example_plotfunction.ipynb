{
 "cells": [
  {
   "cell_type": "heading",
   "metadata": {
    "collapsed": true
   },
   "level": 1,
   "source": [
    "Here we show how to use the plot functionalities that are inside the plotfunction library"
   ]
  },
  {
   "cell_type": "code",
   "execution_count": null,
   "metadata": {},
   "outputs": [],
   "source": [
    "# If you run into trouble using IntelliJ and Jupyter Notebook.. please start a notebook (server) by using the \n",
    "# following command:\n",
    "# jupyter notebook --no-browser --NotebookApp.token='' --NotebookApp.disable_check_xsrf=True\n",
    "\n",
    "\n",
    "import helper.plotfunction as plt\n",
    "\n",
    "for i_func in dir(plt):\n",
    "    print(i_func)"
   ]
  },
  {
   "cell_type": "code",
   "execution_count": null,
   "metadata": {},
   "outputs": [],
   "source": [
    "# Insert first functionality"
   ]
  }
 ],
 "metadata": {
  "kernelspec": {
   "display_name": "Python 2",
   "language": "python",
   "name": "python2"
  },
  "language_info": {
   "codemirror_mode": {
    "name": "ipython",
    "version": 2
   },
   "file_extension": ".py",
   "mimetype": "text/x-python",
   "name": "python",
   "nbconvert_exporter": "python",
   "pygments_lexer": "ipython2",
   "version": "2.7.6"
  }
 },
 "nbformat": 4,
 "nbformat_minor": 0
}
