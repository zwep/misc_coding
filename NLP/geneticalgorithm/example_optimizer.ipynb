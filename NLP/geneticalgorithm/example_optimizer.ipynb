{
 "cells": [
  {
   "cell_type": "heading",
   "metadata": {
    "collapsed": true
   },
   "level": 1,
   "source": [
    "Example on how to use the GeneticAlgorithms.\n",
    "\n",
    "\n",
    "\n",
    "The idea here is that we have two pieces of text which are nearly identical... But how can we be sure that they really are?"
   ]
  },
  {
   "cell_type": "code",
   "execution_count": null,
   "metadata": {},
   "outputs": [],
   "source": [
    "# If you run into trouble using IntelliJ and Jupyter Notebook.. please start a notebook (server) by using the \n",
    "# following command:\n",
    "# jupyter notebook --no-browser --NotebookApp.token='' --NotebookApp.disable_check_xsrf=True\n",
    "\n",
    "\n",
    "# Load some libraries\n",
    "import sys\n",
    "sys.path.append(r'C:\\Users\\C35612.LAUNCHER\\IdeaProjects\\NLP')\n",
    "\n",
    "from geneticalgorithm.optimizer import GeneticAlgorithm\n",
    "from helper.miscfunction import color_back_red_index"
   ]
  },
  {
   "cell_type": "code",
   "execution_count": 20,
   "metadata": {},
   "outputs": [],
   "source": [
    "# Start with two pieces of text that are almost identical\n",
    "\n",
    "input_text_1 = \"Lorem ipsum dolor sit amet, consectetur adipiscing elit, sed do eiusmod tempor incididunt ut labore \" \\\n",
    "               \"et dolore magna aliqua. Ut enim ad minim veniam, quis nostrud exercitation ullamco laboris nisi ut \" \\\n",
    "               \"aliquip ex ea commodo consequat. Duis aute irure dolor in reprehenderit in voluptate velit esse \" \\\n",
    "               \"cillum dolore eu fugiat nulla pariatur. Excepteur sint occaecat cupidatat non proident, sunt in culpa qui officia deserunt mollit anim id est laborum.\"\n",
    "\n",
    "input_text_2 = \"Messing up the textLorem ipsum dolor sit amet, consectetur adipiscing elit, sed do eiusmod tempor \" \\\n",
    "               \"incididunt ut adding some more words labore et dolore magna aliqua. Ut enim ad minim veniam, \" \\\n",
    "               \"quis nostrud exercitation ullamco laboris nisi ut \" \\\n",
    "               \"aliquip ex ea commodo consequat. Duitsers Duis aute irure dolor in reprehenderit in voluptate velit \" \\\n",
    "               \"esse cillum dolore eu fugiat nulla pariatur. Excepteur sint occaecat cupidatat non proident, \" \\\n",
    "               \"sunt in culpa see if it can find this as wellqui officia deserunt mollit anim id est laborum.\"\n"
   ]
  },
  {
   "cell_type": "code",
   "execution_count": 21,
   "metadata": {},
   "outputs": [],
   "source": [
    "# Set parameters of the model, and initalize the model\n",
    "\n",
    "max_search = 50  # The max tolerance for a given character to find the other character\n",
    "n_mut_repeat = 10  # How many time we mutate a child\n",
    "mut_chance = 70  # The chance on mutation (in full percentages!!)\n",
    "n_pop = 50  # The max amount of people in a generation/population\n",
    "max_gen = 101  # The amount of times we generate new children... \n",
    "\n",
    "gen_object = GeneticAlgorithm(input_text_1, input_text_2, max_search=max_search, n_mut_repeat=n_mut_repeat, \n",
    "                     mut_chance=mut_chance,\n",
    "                 n_pop=n_pop, max_gen=max_gen)"
   ]
  },
  {
   "cell_type": "heading",
   "metadata": {},
   "level": 1,
   "source": [
    "This outputs the performance of the model... at each iteration it publishes a score which is needed to be maximized.\n",
    "\n",
    "Also, at the end of a run we can see the reason for stopping the model: either a tolerance condition is met, \n",
    "or the max generation limit is reached."
   ]
  },
  {
   "cell_type": "code",
   "execution_count": null,
   "metadata": {},
   "outputs": [
    {
     "name": "stdout",
     "output_type": "stream",
     "text": [
      "tolerance condition False\nmax gen condition True\n466.09468671679195 --- 1\n466.0344611528822 --- 7\n465.9764661654135 --- 5\n465.92070175438596 --- 9\n465.9162406015038 --- 11\n465.9162406015038 --- 8\n465.9162406015038 --- 6\n465.9162406015038 --- 4\n465.9162406015038 --- 3\n465.9162406015038 --- 2\n"
     ]
    },
    {
     "ename": "TypeError",
     "evalue": "'int' object is not iterable",
     "traceback": [
      "\u001b[1;31m---------------------------------------------------------------------------\u001b[0m",
      "\u001b[1;31mTypeError\u001b[0m                                 Traceback (most recent call last)",
      "\u001b[1;32m<ipython-input-22-81a8be07809b>\u001b[0m in \u001b[0;36m<module>\u001b[1;34m()\u001b[0m\n\u001b[0;32m      1\u001b[0m \u001b[0mresult\u001b[0m \u001b[1;33m=\u001b[0m \u001b[0mgen_object\u001b[0m\u001b[1;33m.\u001b[0m\u001b[0mrun\u001b[0m\u001b[1;33m(\u001b[0m\u001b[1;33m)\u001b[0m  \u001b[1;31m# This object contains the best scored individuals (distributions)\u001b[0m\u001b[1;33m\u001b[0m\u001b[0m\n\u001b[0;32m      2\u001b[0m \u001b[1;33m\u001b[0m\u001b[0m\n\u001b[1;32m----> 3\u001b[1;33m \u001b[0m_\u001b[0m\u001b[1;33m,\u001b[0m \u001b[0mtext_mapping\u001b[0m \u001b[1;33m=\u001b[0m \u001b[0mgen_object\u001b[0m\u001b[1;33m.\u001b[0m\u001b[0mscore_individual\u001b[0m\u001b[1;33m(\u001b[0m\u001b[0mresult\u001b[0m\u001b[1;33m[\u001b[0m\u001b[1;36m0\u001b[0m\u001b[1;33m]\u001b[0m\u001b[1;33m)\u001b[0m\u001b[1;33m\u001b[0m\u001b[0m\n\u001b[0m\u001b[0;32m      4\u001b[0m \u001b[0mx_index_list\u001b[0m\u001b[1;33m,\u001b[0m \u001b[0my_index_list\u001b[0m \u001b[1;33m=\u001b[0m \u001b[0mzip\u001b[0m\u001b[1;33m(\u001b[0m\u001b[1;33m*\u001b[0m\u001b[0mtext_mapping\u001b[0m\u001b[1;33m)\u001b[0m\u001b[1;33m\u001b[0m\u001b[0m\n\u001b[0;32m      5\u001b[0m \u001b[1;33m\u001b[0m\u001b[0m\n",
      "\u001b[1;31mTypeError\u001b[0m: 'int' object is not iterable"
     ],
     "output_type": "error"
    }
   ],
   "source": [
    "# Capture the results\n",
    "\n",
    "result = gen_object.run()  # This object contains the best scored individuals (distributions) \n",
    "\n",
    "# Score the best scoring individual in all generations\n",
    "_, text_mapping = gen_object.score_individual(result[0])\n",
    "x_index_list, y_index_list = zip(*text_mapping)\n",
    "\n",
    "# Print the text mapping overlay...\n",
    "print(color_back_red_index(gen_object.text_1, list(x_index_list)[1:]))\n",
    "print('')\n",
    "print(color_back_red_index(gen_object.text_2, list(y_index_list)[1:]))\n"
   ]
  }
 ],
 "metadata": {
  "kernelspec": {
   "display_name": "Python 2",
   "language": "python",
   "name": "python2"
  },
  "language_info": {
   "codemirror_mode": {
    "name": "ipython",
    "version": 2
   },
   "file_extension": ".py",
   "mimetype": "text/x-python",
   "name": "python",
   "nbconvert_exporter": "python",
   "pygments_lexer": "ipython2",
   "version": "2.7.6"
  }
 },
 "nbformat": 4,
 "nbformat_minor": 0
}
